{
 "cells": [
  {
   "cell_type": "code",
   "execution_count": 1,
   "id": "cd48f34f",
   "metadata": {},
   "outputs": [],
   "source": [
    "# Import the dependencies.\n",
    "import pandas as pd\n",
    "import matplotlib.pyplot as plt\n",
    "import numpy as np"
   ]
  },
  {
   "cell_type": "code",
   "execution_count": 2,
   "id": "de1ac29f",
   "metadata": {},
   "outputs": [],
   "source": [
    "# Import the requests library.\n",
    "import requests\n",
    "\n",
    "# Import the API key.\n",
    "from config import weather_api_key"
   ]
  },
  {
   "cell_type": "code",
   "execution_count": 3,
   "id": "91d569c7",
   "metadata": {},
   "outputs": [],
   "source": [
    "# Starting URL for Weather Map API Call.\n",
    "url = \"http://api.openweathermap.org/data/2.5/weather?units=Imperial&APPID=\" + weather_api_key"
   ]
  },
  {
   "cell_type": "code",
   "execution_count": 4,
   "id": "a34dd3b8",
   "metadata": {},
   "outputs": [
    {
     "data": {
      "text/plain": [
       "<zip at 0x122110f00>"
      ]
     },
     "execution_count": 4,
     "metadata": {},
     "output_type": "execute_result"
    }
   ],
   "source": [
    "# Create a set of random latitude and longitude combinations.\n",
    "lats = np.random.uniform(low=-90.000, high=90.000, size=1500)\n",
    "lngs = np.random.uniform(low=-180.000, high=180.000, size=1500)\n",
    "lat_lngs = zip(lats, lngs)\n",
    "lat_lngs"
   ]
  },
  {
   "cell_type": "code",
   "execution_count": 5,
   "id": "586d131a",
   "metadata": {},
   "outputs": [],
   "source": [
    "# Add the latitudes and longitudes to a list.\n",
    "coordinates = list(lat_lngs)"
   ]
  },
  {
   "cell_type": "code",
   "execution_count": 6,
   "id": "f923ec01",
   "metadata": {},
   "outputs": [],
   "source": [
    "from citipy import citipy"
   ]
  },
  {
   "cell_type": "code",
   "execution_count": 7,
   "id": "b882882c",
   "metadata": {},
   "outputs": [
    {
     "data": {
      "text/plain": [
       "635"
      ]
     },
     "execution_count": 7,
     "metadata": {},
     "output_type": "execute_result"
    }
   ],
   "source": [
    "# Create a list for holding the cities.\n",
    "cities = []\n",
    "# Identify the nearest city for each latitude and longitude combination.\n",
    "for coordinate in coordinates:\n",
    "    city = citipy.nearest_city(coordinate[0], coordinate[1]).city_name\n",
    "\n",
    "    # If the city is unique, then we will add it to the cities list.\n",
    "    if city not in cities:\n",
    "        cities.append(city)\n",
    "# Print the city count to confirm sufficient count.\n",
    "len(cities)"
   ]
  },
  {
   "cell_type": "code",
   "execution_count": 8,
   "id": "2b95eb00",
   "metadata": {},
   "outputs": [],
   "source": [
    "# Import the time library and the datetime module from the datetime library \n",
    "import time\n",
    "from datetime import datetime"
   ]
  },
  {
   "cell_type": "code",
   "execution_count": 9,
   "id": "86616e43",
   "metadata": {},
   "outputs": [
    {
     "name": "stdout",
     "output_type": "stream",
     "text": [
      "Beginning Data Retrieval     \n",
      "-----------------------------\n"
     ]
    }
   ],
   "source": [
    "# Create an empty list to hold the weather data.\n",
    "city_data = []\n",
    "# Print the beginning of the logging.\n",
    "print(\"Beginning Data Retrieval     \")\n",
    "print(\"-----------------------------\")\n",
    "\n",
    "# Create counters.\n",
    "record_count = 1\n",
    "set_count = 1"
   ]
  },
  {
   "cell_type": "code",
   "execution_count": null,
   "id": "52f19698",
   "metadata": {},
   "outputs": [
    {
     "name": "stdout",
     "output_type": "stream",
     "text": [
      "Processing Record 1 of Set 1 | castro\n",
      "Processing Record 2 of Set 1 | college\n",
      "Processing Record 3 of Set 1 | rikitea\n",
      "Processing Record 4 of Set 1 | bauchi\n",
      "Processing Record 5 of Set 1 | haines junction\n",
      "Processing Record 6 of Set 1 | talnakh\n",
      "Processing Record 7 of Set 1 | port shepstone\n",
      "Processing Record 8 of Set 1 | huntsville\n",
      "Processing Record 9 of Set 1 | gat\n",
      "Processing Record 10 of Set 1 | taburi\n",
      "City not found. Skipping...\n",
      "Processing Record 11 of Set 1 | gzhatsk\n",
      "City not found. Skipping...\n",
      "Processing Record 12 of Set 1 | yacuiba\n",
      "Processing Record 13 of Set 1 | sao filipe\n",
      "Processing Record 14 of Set 1 | ostrovnoy\n",
      "Processing Record 15 of Set 1 | punta arenas\n",
      "Processing Record 16 of Set 1 | qaanaaq\n",
      "Processing Record 17 of Set 1 | wenling\n",
      "Processing Record 18 of Set 1 | palabuhanratu\n",
      "City not found. Skipping...\n",
      "Processing Record 19 of Set 1 | mataura\n",
      "Processing Record 20 of Set 1 | port lincoln\n",
      "Processing Record 21 of Set 1 | port alfred\n",
      "Processing Record 22 of Set 1 | bredasdorp\n",
      "Processing Record 23 of Set 1 | barentsburg\n",
      "City not found. Skipping...\n",
      "Processing Record 24 of Set 1 | shubarkuduk\n",
      "Processing Record 25 of Set 1 | busselton\n",
      "Processing Record 26 of Set 1 | taolanaro\n",
      "City not found. Skipping...\n",
      "Processing Record 27 of Set 1 | spirit river\n",
      "Processing Record 28 of Set 1 | mitsamiouli\n",
      "Processing Record 29 of Set 1 | jacqueville\n",
      "Processing Record 30 of Set 1 | ushuaia\n",
      "Processing Record 31 of Set 1 | tuktoyaktuk\n",
      "Processing Record 32 of Set 1 | itoman\n",
      "Processing Record 33 of Set 1 | ambatondrazaka\n",
      "Processing Record 34 of Set 1 | aklavik\n",
      "Processing Record 35 of Set 1 | hilo\n",
      "Processing Record 36 of Set 1 | atuona\n",
      "Processing Record 37 of Set 1 | san patricio\n",
      "Processing Record 38 of Set 1 | illoqqortoormiut\n",
      "City not found. Skipping...\n",
      "Processing Record 39 of Set 1 | ixtapa\n",
      "Processing Record 40 of Set 1 | andenes\n",
      "Processing Record 41 of Set 1 | kapaa\n",
      "Processing Record 42 of Set 1 | nanning\n",
      "Processing Record 43 of Set 1 | smithers\n",
      "Processing Record 44 of Set 1 | hobart\n",
      "Processing Record 45 of Set 1 | copiapo\n",
      "Processing Record 46 of Set 1 | klaksvik\n",
      "Processing Record 47 of Set 1 | attawapiskat\n",
      "City not found. Skipping...\n",
      "Processing Record 48 of Set 1 | east london\n",
      "Processing Record 49 of Set 1 | kuantan\n",
      "Processing Record 50 of Set 1 | kruisfontein\n",
      "Processing Record 1 of Set 2 | albany\n",
      "Processing Record 2 of Set 2 | umm lajj\n",
      "Processing Record 3 of Set 2 | tipuani\n",
      "Processing Record 4 of Set 2 | belushya guba\n",
      "City not found. Skipping...\n",
      "Processing Record 5 of Set 2 | praia\n",
      "Processing Record 6 of Set 2 | aksarka\n",
      "Processing Record 7 of Set 2 | saint-pierre\n",
      "Processing Record 8 of Set 2 | grindavik\n",
      "Processing Record 9 of Set 2 | los llanos de aridane\n",
      "Processing Record 10 of Set 2 | broome\n",
      "Processing Record 11 of Set 2 | jinchang\n",
      "Processing Record 12 of Set 2 | new norfolk\n",
      "Processing Record 13 of Set 2 | bilibino\n",
      "Processing Record 14 of Set 2 | tahta\n",
      "Processing Record 15 of Set 2 | iralaya\n",
      "Processing Record 16 of Set 2 | georgetown\n",
      "Processing Record 17 of Set 2 | vanimo\n",
      "Processing Record 18 of Set 2 | kodiak\n",
      "Processing Record 19 of Set 2 | manaure\n",
      "Processing Record 20 of Set 2 | palmer\n",
      "Processing Record 21 of Set 2 | pevek\n",
      "Processing Record 22 of Set 2 | xining\n",
      "Processing Record 23 of Set 2 | te anau\n",
      "Processing Record 24 of Set 2 | victoria\n",
      "Processing Record 25 of Set 2 | tasiilaq\n",
      "Processing Record 26 of Set 2 | dwarka\n",
      "Processing Record 27 of Set 2 | torbay\n",
      "Processing Record 28 of Set 2 | tumannyy\n",
      "City not found. Skipping...\n",
      "Processing Record 29 of Set 2 | salalah\n",
      "Processing Record 30 of Set 2 | cape town\n",
      "Processing Record 31 of Set 2 | kavieng\n",
      "Processing Record 32 of Set 2 | vaini\n",
      "Processing Record 33 of Set 2 | luderitz\n",
      "Processing Record 34 of Set 2 | ponta do sol\n",
      "Processing Record 35 of Set 2 | lufilufi\n",
      "Processing Record 36 of Set 2 | avarua\n",
      "Processing Record 37 of Set 2 | martapura\n",
      "Processing Record 38 of Set 2 | hithadhoo\n",
      "Processing Record 39 of Set 2 | kahului\n",
      "Processing Record 40 of Set 2 | gurupa\n",
      "Processing Record 41 of Set 2 | san cristobal\n",
      "Processing Record 42 of Set 2 | tuatapere\n",
      "Processing Record 43 of Set 2 | tres arroyos\n",
      "Processing Record 44 of Set 2 | pisco\n",
      "Processing Record 45 of Set 2 | camacha\n",
      "Processing Record 46 of Set 2 | moerai\n",
      "Processing Record 47 of Set 2 | cherskiy\n",
      "Processing Record 48 of Set 2 | hami\n",
      "Processing Record 49 of Set 2 | cidreira\n",
      "Processing Record 50 of Set 2 | upernavik\n",
      "Processing Record 1 of Set 3 | kerteh\n",
      "City not found. Skipping...\n",
      "Processing Record 2 of Set 3 | beloha\n",
      "Processing Record 3 of Set 3 | hambantota\n",
      "Processing Record 4 of Set 3 | diffa\n",
      "Processing Record 5 of Set 3 | avera\n",
      "Processing Record 6 of Set 3 | jamestown\n",
      "Processing Record 7 of Set 3 | cabedelo\n",
      "Processing Record 8 of Set 3 | norman wells\n",
      "Processing Record 9 of Set 3 | dikson\n",
      "Processing Record 10 of Set 3 | chokurdakh\n",
      "Processing Record 11 of Set 3 | ribeira grande\n",
      "Processing Record 12 of Set 3 | port macquarie\n",
      "Processing Record 13 of Set 3 | ancud\n",
      "Processing Record 14 of Set 3 | lolua\n",
      "City not found. Skipping...\n",
      "Processing Record 15 of Set 3 | coquimbo\n",
      "Processing Record 16 of Set 3 | grand river south east\n",
      "City not found. Skipping...\n",
      "Processing Record 17 of Set 3 | nanortalik\n",
      "Processing Record 18 of Set 3 | yulara\n",
      "Processing Record 19 of Set 3 | birjand\n",
      "Processing Record 20 of Set 3 | barrow\n",
      "Processing Record 21 of Set 3 | charters towers\n",
      "Processing Record 22 of Set 3 | abu zabad\n",
      "Processing Record 23 of Set 3 | zalantun\n",
      "Processing Record 24 of Set 3 | kulhudhuffushi\n",
      "Processing Record 25 of Set 3 | rio grande\n",
      "Processing Record 26 of Set 3 | nikolskoye\n",
      "Processing Record 27 of Set 3 | fortuna\n",
      "Processing Record 28 of Set 3 | saint george\n",
      "Processing Record 29 of Set 3 | vila velha\n",
      "Processing Record 30 of Set 3 | novobohdanivka\n",
      "Processing Record 31 of Set 3 | mainpuri\n",
      "Processing Record 32 of Set 3 | xinzhou\n",
      "Processing Record 33 of Set 3 | bud\n",
      "Processing Record 34 of Set 3 | clemencia\n",
      "Processing Record 35 of Set 3 | leh\n",
      "Processing Record 36 of Set 3 | faanui\n",
      "Processing Record 37 of Set 3 | saldanha\n",
      "Processing Record 38 of Set 3 | balkhash\n",
      "Processing Record 39 of Set 3 | codrington\n",
      "Processing Record 40 of Set 3 | severo-yeniseyskiy\n",
      "Processing Record 41 of Set 3 | owen sound\n",
      "Processing Record 42 of Set 3 | thinadhoo\n",
      "Processing Record 43 of Set 3 | richards bay\n",
      "Processing Record 44 of Set 3 | tsihombe\n",
      "City not found. Skipping...\n",
      "Processing Record 45 of Set 3 | stebnyk\n",
      "Processing Record 46 of Set 3 | whitehorse\n",
      "Processing Record 47 of Set 3 | narsaq\n",
      "Processing Record 48 of Set 3 | sayyan\n",
      "Processing Record 49 of Set 3 | abu dhabi\n",
      "Processing Record 50 of Set 3 | santa eulalia del rio\n",
      "City not found. Skipping...\n"
     ]
    }
   ],
   "source": [
    "# Loop through all the cities in the list.\n",
    "for i, city in enumerate(cities):\n",
    "\n",
    "    # Group cities in sets of 50 for logging purposes.\n",
    "    if (i % 50 == 0 and i >= 50):\n",
    "        set_count += 1\n",
    "        record_count = 1\n",
    "        time.sleep(60)\n",
    "\n",
    "    # Create endpoint URL with each city.\n",
    "    city_url = url + \"&q=\" + city.replace(\" \",\"+\")\n",
    "\n",
    "    # Log the URL, record, and set numbers and the city.\n",
    "    print(f\"Processing Record {record_count} of Set {set_count} | {city}\")\n",
    "    # Add 1 to the record count.\n",
    "    record_count += 1\n",
    "    \n",
    "    # Run an API request for each of the cities.\n",
    "    try:\n",
    "        # Parse the JSON and retrieve data.\n",
    "        city_weather = requests.get(city_url).json()\n",
    "        # Parse out the needed data.\n",
    "        city_lat = city_weather[\"coord\"][\"lat\"]\n",
    "        city_lng = city_weather[\"coord\"][\"lon\"]\n",
    "        city_max_temp = city_weather[\"main\"][\"temp_max\"]\n",
    "        city_humidity = city_weather[\"main\"][\"humidity\"]\n",
    "        city_clouds = city_weather[\"clouds\"][\"all\"]\n",
    "        city_wind = city_weather[\"wind\"][\"speed\"]\n",
    "        city_country = city_weather[\"sys\"][\"country\"]\n",
    "        # Convert the date to ISO standard.\n",
    "        city_date = datetime.utcfromtimestamp(city_weather[\"dt\"]).strftime('%Y-%m-%d %H:%M:%S')\n",
    "        # Append the city information into city_data list.\n",
    "        city_data.append({\"City\": city.title(),\n",
    "                            \"Lat\": city_lat,\n",
    "                            \"Lng\": city_lng,\n",
    "                            \"Max Temp\": city_max_temp,\n",
    "                            \"Humidity\": city_humidity,\n",
    "                            \"Cloudiness\": city_clouds,\n",
    "                            \"Wind Speed\": city_wind,\n",
    "                            \"Country\": city_country,\n",
    "                            \"Date\": city_date})\n",
    "\n",
    "    # If an error is experienced, skip the city.\n",
    "    except:\n",
    "        print(\"City not found. Skipping...\")\n",
    "        pass\n",
    "\n",
    "# Indicate that Data Loading is complete.\n",
    "print(\"-----------------------------\")\n",
    "print(\"Data Retrieval Complete      \")\n",
    "print(\"-----------------------------\")\n"
   ]
  },
  {
   "cell_type": "code",
   "execution_count": null,
   "id": "80d20fad",
   "metadata": {},
   "outputs": [],
   "source": [
    "# Convert the array of dictionaries to a Pandas DataFrame.\n",
    "city_data_df = pd.DataFrame(city_data)\n",
    "city_data_df.head()"
   ]
  },
  {
   "cell_type": "code",
   "execution_count": null,
   "id": "3c3f6346",
   "metadata": {},
   "outputs": [],
   "source": [
    "new_column_order = [\"City\", \"Country\", \"Date\", \"Lat\", \"Lng\", \"Max Temp\", \"Humidity\", \"Cloudiness\", \"Wind Speed\"]\n",
    "city_data_df = city_data_df[new_column_order]\n",
    "city_data_df"
   ]
  },
  {
   "cell_type": "code",
   "execution_count": null,
   "id": "fe1a6d8e",
   "metadata": {},
   "outputs": [],
   "source": [
    "# Create the output file (CSV).\n",
    "output_data_file = \"weather_data/cities.csv\"\n",
    "# Export the City_Data into a CSV.\n",
    "city_data_df.to_csv(output_data_file, index_label=\"City_ID\")"
   ]
  },
  {
   "cell_type": "code",
   "execution_count": null,
   "id": "c61d7e8f",
   "metadata": {},
   "outputs": [],
   "source": [
    "# Extract relevant fields from the DataFrame for plotting.\n",
    "lats = city_data_df[\"Lat\"]\n",
    "max_temps = city_data_df[\"Max Temp\"]\n",
    "humidity = city_data_df[\"Humidity\"]\n",
    "cloudiness = city_data_df[\"Cloudiness\"]\n",
    "wind_speed = city_data_df[\"Wind Speed\"]"
   ]
  },
  {
   "cell_type": "code",
   "execution_count": null,
   "id": "26c715eb",
   "metadata": {},
   "outputs": [],
   "source": [
    "# Import time module\n",
    "import time\n",
    "\n",
    "# Build the scatter plot for latitude vs. max temperature.\n",
    "plt.scatter(lats,\n",
    "            max_temps,\n",
    "            edgecolor=\"black\", linewidths=1, marker=\"o\",\n",
    "            alpha=0.8, label=\"Cities\")\n",
    "\n",
    "# Incorporate the other graph properties.\n",
    "plt.title(f\"City Latitude vs. Max Temperature \"+ time.strftime(\"%x\"))\n",
    "plt.ylabel(\"Max Temperature (F)\")\n",
    "plt.xlabel(\"Latitude\")\n",
    "plt.grid(True)\n",
    "\n",
    "# Save the figure.\n",
    "plt.savefig(\"weather_data/Fig1.png\")\n",
    "\n",
    "# Show plot.\n",
    "plt.show()"
   ]
  },
  {
   "cell_type": "code",
   "execution_count": null,
   "id": "449436e2",
   "metadata": {},
   "outputs": [],
   "source": [
    "# Build the scatter plots for latitude vs. humidity.\n",
    "plt.scatter(lats,\n",
    "            humidity,\n",
    "            edgecolor=\"black\", linewidths=1, marker=\"o\",\n",
    "            alpha=0.8, label=\"Cities\")\n",
    "\n",
    "# Incorporate the other graph properties.\n",
    "plt.title(f\"City Latitude vs. Humidity \"+ time.strftime(\"%x\"))\n",
    "plt.ylabel(\"Humidity (%)\")\n",
    "plt.xlabel(\"Latitude\")\n",
    "plt.grid(True)\n",
    "# Save the figure.\n",
    "plt.savefig(\"weather_data/Fig2.png\")\n",
    "# Show plot.\n",
    "plt.show()"
   ]
  },
  {
   "cell_type": "code",
   "execution_count": null,
   "id": "2fe4b86d",
   "metadata": {},
   "outputs": [],
   "source": [
    "# Build the scatter plots for latitude vs. cloudiness.\n",
    "plt.scatter(lats,\n",
    "            cloudiness,\n",
    "            edgecolor=\"black\", linewidths=1, marker=\"o\",\n",
    "            alpha=0.8, label=\"Cities\")\n",
    "\n",
    "# Incorporate the other graph properties.\n",
    "plt.title(f\"City Latitude vs. Cloudiness (%) \"+ time.strftime(\"%x\"))\n",
    "plt.ylabel(\"Cloudiness (%)\")\n",
    "plt.xlabel(\"Latitude\")\n",
    "plt.grid(True)\n",
    "# Save the figure.\n",
    "plt.savefig(\"weather_data/Fig3.png\")\n",
    "# Show plot.\n",
    "plt.show()"
   ]
  },
  {
   "cell_type": "code",
   "execution_count": null,
   "id": "1061b6e3",
   "metadata": {},
   "outputs": [],
   "source": [
    "# Build the scatter plots for latitude vs. wind speed.\n",
    "plt.scatter(lats,\n",
    "            wind_speed,\n",
    "            edgecolor=\"black\", linewidths=1, marker=\"o\",\n",
    "            alpha=0.8, label=\"Cities\")\n",
    "\n",
    "# Incorporate the other graph properties.\n",
    "plt.title(f\"City Latitude vs. Wind Speed \"+ time.strftime(\"%x\"))\n",
    "plt.ylabel(\"Wind Speed (mph)\")\n",
    "plt.xlabel(\"Latitude\")\n",
    "plt.grid(True)\n",
    "# Save the figure.\n",
    "plt.savefig(\"weather_data/Fig4.png\")\n",
    "# Show plot.\n",
    "plt.show()"
   ]
  },
  {
   "cell_type": "code",
   "execution_count": null,
   "id": "74191d59",
   "metadata": {},
   "outputs": [],
   "source": [
    "# Import linregress\n",
    "from scipy.stats import linregress\n",
    "\n",
    "# Create a function to create perform linear regression on the weather data\n",
    "# and plot a regression line and the equation with the data.\n",
    "def plot_linear_regression(x_values, y_values, title, y_label, text_coordinates):\n",
    "\n",
    "    # Run regression on hemisphere weather data.\n",
    "    (slope, intercept, r_value, p_value, std_err) = linregress(x_values, y_values)\n",
    "\n",
    "    # Calculate the regression line \"y values\" from the slope and intercept.\n",
    "    regress_values = x_values * slope + intercept\n",
    "    # Get the equation of the line.\n",
    "    line_eq = \"y = \" + str(round(slope,2)) + \"x + \" + str(round(intercept,2))\n",
    "    # Create a scatter plot and plot the regression line.\n",
    "    plt.scatter(x_values,y_values)\n",
    "    plt.plot(x_values,regress_values,\"r\")\n",
    "    # Annotate the text for the line equation.\n",
    "    plt.annotate(line_eq, text_coordinates, fontsize=15, color=\"red\")\n",
    "    plt.title(title)\n",
    "    plt.xlabel('Latitude')\n",
    "    plt.ylabel(y_label)\n",
    "    plt.show()"
   ]
  },
  {
   "cell_type": "code",
   "execution_count": null,
   "id": "bf62ca1e",
   "metadata": {},
   "outputs": [],
   "source": [
    "index13 = city_data_df.loc[13]\n",
    "index13"
   ]
  },
  {
   "cell_type": "code",
   "execution_count": null,
   "id": "4365e2b1",
   "metadata": {},
   "outputs": [],
   "source": [
    "city_data_df[\"Lat\"] >= 0"
   ]
  },
  {
   "cell_type": "code",
   "execution_count": null,
   "id": "657ebe86",
   "metadata": {},
   "outputs": [],
   "source": [
    "city_data_df.loc[(city_data_df[\"Lat\"] >= 0)].head()"
   ]
  },
  {
   "cell_type": "code",
   "execution_count": null,
   "id": "deb7656e",
   "metadata": {},
   "outputs": [],
   "source": [
    "# Create Northern and Southern Hemisphere DataFrames.\n",
    "northern_hemi_df = city_data_df.loc[(city_data_df[\"Lat\"] >= 0)]\n",
    "southern_hemi_df = city_data_df.loc[(city_data_df[\"Lat\"] < 0)]"
   ]
  },
  {
   "cell_type": "code",
   "execution_count": null,
   "id": "0c925d3d",
   "metadata": {},
   "outputs": [],
   "source": [
    "# Linear regression on the Northern Hemisphere\n",
    "x_values = northern_hemi_df[\"Lat\"]\n",
    "y_values = northern_hemi_df[\"Max Temp\"]\n",
    "# Call the function.\n",
    "plot_linear_regression(x_values, y_values,\n",
    "                       'Linear Regression on the Northern Hemisphere \\\n",
    "                        for Maximum Temperature', 'Max Temp',(10,40))"
   ]
  },
  {
   "cell_type": "code",
   "execution_count": null,
   "id": "57e9d87d",
   "metadata": {},
   "outputs": [],
   "source": [
    "# Linear regression on the Southern Hemisphere\n",
    "x_values = southern_hemi_df[\"Lat\"]\n",
    "y_values = southern_hemi_df[\"Max Temp\"]\n",
    "# Call the function.\n",
    "plot_linear_regression(x_values, y_values,\n",
    "                       'Linear Regression on the Southern Hemisphere \\\n",
    "                        for Maximum Temperature', 'Max Temp',(-50,90))"
   ]
  },
  {
   "cell_type": "code",
   "execution_count": null,
   "id": "32ec586d",
   "metadata": {},
   "outputs": [],
   "source": [
    "# Linear regression on the Northern Hemisphere\n",
    "x_values = northern_hemi_df[\"Lat\"]\n",
    "y_values = northern_hemi_df[\"Humidity\"]\n",
    "# Call the function.\n",
    "plot_linear_regression(x_values, y_values,\n",
    "                       'Linear Regression on the Northern Hemisphere \\\n",
    "                        for % Humidity', '% Humidity',(40,10))\n"
   ]
  },
  {
   "cell_type": "code",
   "execution_count": null,
   "id": "6b516eab",
   "metadata": {},
   "outputs": [],
   "source": [
    "# Linear regression on the Southern Hemisphere\n",
    "x_values = southern_hemi_df[\"Lat\"]\n",
    "y_values = southern_hemi_df[\"Humidity\"]\n",
    "# Call the function.\n",
    "plot_linear_regression(x_values, y_values,\n",
    "                       'Linear Regression on the Southern Hemisphere \\\n",
    "                        for % Humidity', '% Humidity',(-50,15))"
   ]
  },
  {
   "cell_type": "code",
   "execution_count": null,
   "id": "c583b601",
   "metadata": {},
   "outputs": [],
   "source": [
    "# Linear regression on the Southern Hemisphere\n",
    "x_values = southern_hemi_df[\"Lat\"]\n",
    "y_values = southern_hemi_df[\"Cloudiness\"]\n",
    "# Call the function.\n",
    "plot_linear_regression(x_values, y_values,\n",
    "                       'Linear Regression on the Southern Hemisphere \\\n",
    "                        for % Cloudiness', '% Cloudiness',(-50,60))\n"
   ]
  },
  {
   "cell_type": "code",
   "execution_count": null,
   "id": "6a3256c9",
   "metadata": {},
   "outputs": [],
   "source": [
    "# Linear regression on the Northern Hemisphere\n",
    "x_values = northern_hemi_df[\"Lat\"]\n",
    "y_values = northern_hemi_df[\"Wind Speed\"]\n",
    "# Call the function.\n",
    "plot_linear_regression(x_values, y_values,\n",
    "                       'Linear Regression on the Northern Hemisphere \\\n",
    "                        for Wind Speed', 'Wind Speed',(40,35))\n"
   ]
  },
  {
   "cell_type": "code",
   "execution_count": null,
   "id": "f9ffbd75",
   "metadata": {},
   "outputs": [],
   "source": [
    "# Linear regression on the Southern Hemisphere\n",
    "x_values = southern_hemi_df[\"Lat\"]\n",
    "y_values = southern_hemi_df[\"Wind Speed\"]\n",
    "# Call the function.\n",
    "plot_linear_regression(x_values, y_values,\n",
    "                       'Linear Regression on the Southern Hemisphere \\\n",
    "                        for Wind Speed', 'Wind Speed',(-50,35))"
   ]
  },
  {
   "cell_type": "code",
   "execution_count": null,
   "id": "7cee40e4",
   "metadata": {},
   "outputs": [],
   "source": []
  }
 ],
 "metadata": {
  "kernelspec": {
   "display_name": "PythonData",
   "language": "python",
   "name": "pythondata"
  },
  "language_info": {
   "codemirror_mode": {
    "name": "ipython",
    "version": 3
   },
   "file_extension": ".py",
   "mimetype": "text/x-python",
   "name": "python",
   "nbconvert_exporter": "python",
   "pygments_lexer": "ipython3",
   "version": "3.8.8"
  }
 },
 "nbformat": 4,
 "nbformat_minor": 5
}
